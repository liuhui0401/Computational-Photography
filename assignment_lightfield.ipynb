{
 "cells": [
  {
   "cell_type": "code",
   "execution_count": null,
   "metadata": {},
   "outputs": [],
   "source": [
    "import cv2\n",
    "import numpy as np\n",
    "import matplotlib.pyplot as plt\n",
    "import math"
   ]
  },
  {
   "cell_type": "markdown",
   "metadata": {},
   "source": [
    "#### 读取光场图像"
   ]
  },
  {
   "cell_type": "code",
   "execution_count": null,
   "metadata": {},
   "outputs": [],
   "source": [
    "image_file = 'chessboard.png'\n",
    "h,w = 400,700\n",
    "img = cv2.imread(image_file)\n",
    "img = cv2.cvtColor(img,cv2.COLOR_BGR2RGB)\n",
    "\n",
    "# Extract sub-aperture images with different view point from light field image\n",
    "sub_aperture = np.zeros((16,16,400,700,3),dtype=np.uint8)\n",
    "# TODO \n",
    "height, width, _ = img.shape\n",
    "N = 16\n",
    "for i in range(N):\n",
    "    for j in range(N):\n",
    "        sub_aperture[i, j, :, :, :] = img[i:height:N, j:width:N, :]\n",
    "\n",
    "\n",
    "# Recombine image sequence into [16*16,400,700,3] and display\n",
    "img_concate = np.zeros_like(img)\n",
    "# TODO\n",
    "for i in range(N):\n",
    "    for j in range(N):\n",
    "        img_concate[i*h:(i+1)*h, j*w:(j+1)*w, :] = sub_aperture[i, j, :, :, :]\n",
    "cv2.imwrite('./img_concate.png', img_concate)\n",
    "\n",
    "\n",
    "plt.axis(\"off\")\n",
    "plt.title(\"Light Field Images\")\n",
    "plt.imshow(img_concate)"
   ]
  },
  {
   "cell_type": "markdown",
   "metadata": {},
   "source": [
    "#### 重对焦\n",
    "\n",
    "$$I_{\\text{refoucs}} = \\frac{1}{uv}\\int_u\\int_v L(u,v,s+d\\cdot u,t+d\\cdot v,c)\\text{d}v\\text{d}u$$"
   ]
  },
  {
   "cell_type": "code",
   "execution_count": null,
   "metadata": {},
   "outputs": [],
   "source": [
    "N = 16\n",
    "def refocus(d):\n",
    "    # TODO\n",
    "    LF_pic = np.zeros((h, w, 3))\n",
    "    for i in range(N):\n",
    "        for j in range(N):\n",
    "            each_img = np.squeeze(sub_aperture[i, j, :, :, :])\n",
    "            for x in range(h):\n",
    "                for y in range(w):\n",
    "                    LF_pic[x, y, 0] = LF_pic[x, y, 0] + each_img[min(399, math.floor(x+d*i)), min(699, math.floor(y-d*j)), 0]\n",
    "                    LF_pic[x, y, 1] = LF_pic[x, y, 1] + each_img[min(399, math.floor(x+d*i)), min(699, math.floor(y-d*j)), 1]\n",
    "                    LF_pic[x, y, 2] = LF_pic[x, y, 2] + each_img[min(399, math.floor(x+d*i)), min(699, math.floor(y-d*j)), 2]\n",
    "    LF_pic = LF_pic // (N*N)\n",
    "    \n",
    "    return LF_pic.astype(np.uint8)"
   ]
  },
  {
   "cell_type": "code",
   "execution_count": null,
   "metadata": {},
   "outputs": [],
   "source": [
    "# Refocus at the top of image\n",
    "disp = 0\n",
    "image_top = refocus(disp)\n",
    "\n",
    "plt.axis(\"off\")\n",
    "plt.title(\"Refocus at the top\")\n",
    "plt.imshow(image_top)\n",
    "cv2.imwrite('./top.png', image_top)"
   ]
  },
  {
   "cell_type": "code",
   "execution_count": null,
   "metadata": {},
   "outputs": [],
   "source": [
    "# Refocus at the middle of image\n",
    "# TODO \n",
    "# change the displacement\n",
    "disp = 0.6\n",
    "\n",
    "image_mid = refocus(disp)\n",
    "plt.axis(\"off\")\n",
    "plt.title(\"Refocus at the middle\")\n",
    "plt.imshow(image_mid)\n",
    "cv2.imwrite('./mid.png', image_mid)"
   ]
  },
  {
   "cell_type": "code",
   "execution_count": null,
   "metadata": {},
   "outputs": [],
   "source": [
    "# Refocus at the bottom of image \n",
    "# TODO\n",
    "# change the displacement\n",
    "disp = 1.3\n",
    "\n",
    "image_bottom = refocus(disp)\n",
    "plt.axis(\"off\")\n",
    "plt.title(\"Refocus at the bottom\")\n",
    "plt.imshow(image_bottom)\n",
    "cv2.imwrite('./down.png', image_bottom)"
   ]
  },
  {
   "cell_type": "markdown",
   "metadata": {},
   "source": [
    "#### 焦点堆栈"
   ]
  },
  {
   "cell_type": "code",
   "execution_count": null,
   "metadata": {},
   "outputs": [],
   "source": [
    "# synthesize focal stack from light field image\n",
    "\n",
    "focal_stack = []\n",
    "# # TODO\n",
    "focal_stack.append(image_top)\n",
    "focal_stack.append(image_mid)\n",
    "focal_stack.append(image_bottom)\n",
    "disp_list = [0.2, 0.7, 1.2, 0.3, 0.9, 1.4, 0.4, 1.1, 1.5]\n",
    "for disp in disp_list:\n",
    "    focal_stack.append(refocus(disp))\n",
    "\n",
    "# display the focal stack\n",
    "# TODO \n",
    "stack_img1 = image_top\n",
    "stack_img2 = image_mid\n",
    "stack_img3 = image_bottom\n",
    "for i in range(1, 4):\n",
    "    stack_img1 = np.concatenate((stack_img1, focal_stack[i]), axis=0)\n",
    "for i in range(5, 8):\n",
    "    stack_img2 = np.concatenate((stack_img2, focal_stack[i]), axis=0)\n",
    "for i in range(9, 12):\n",
    "    stack_img3 = np.concatenate((stack_img3, focal_stack[i]), axis=0)\n",
    "final_stack_img = np.concatenate((stack_img1, stack_img2), axis=1)\n",
    "final_stack_img = np.concatenate((final_stack_img, stack_img3), axis=1)\n",
    "plt.axis('off')\n",
    "plt.imshow(final_stack_img)\n",
    "cv2.imwrite('./focal_stack.png', final_stack_img)"
   ]
  },
  {
   "cell_type": "markdown",
   "metadata": {},
   "source": [
    "#### 全对焦图像生成\n",
    "\n",
    "- 对于每一张图像，首先并从RGB图像中抽取亮度通道：$$I_{\\text{Iumincance}}(s,t,d) = \\text{get\\_luminance}(I(s,t,c,d))$$ \n",
    "- 利用一个标准差为$\\sigma_1$高斯卷积核从图像中提取低频信息：$$I_{\\text{low-freq}}(s,t,d) = G_{\\sigma_1}(s,t)*I_{\\text{Iumincance}}(s,t,d)$$\n",
    "- 将原始图像减去低频信息得到图像的高频信息：$$I_{\\text{high-freq}}(s,t,d) = I_{\\text{Iumincance}}(s,t,d) - I_{\\text{low-freq}}(s,t,d)$$\n",
    "- 利用一个标准差$\\sigma_2$高斯卷积核从图像的高频信息中估计出图像的锐度权重：$$\\omega_{\\text{sharpness}}(s,t,d) = G_{\\sigma_2}(s,t) * (I_{\\text{high-freq}}(s,t,d))^2$$\n",
    "- 基于图像的锐度所计算的权重，可以生成一张全对焦图像：$$I_{\\text{all-in-focus}} = \\frac{\\sum_d \\omega_{\\text{sharpness}}(s,t,d)I(s,t,c,d)}{\\sum_d \\omega_{\\text{sharpness}}(s,t,d)}$$\n"
   ]
  },
  {
   "cell_type": "code",
   "execution_count": null,
   "metadata": {},
   "outputs": [],
   "source": [
    "# All-in-focus image\n",
    "\n",
    "all_in_focus = np.zeros((h,w,3),dtype = np.uint8)\n",
    "# TODO\n",
    "\n",
    "weights = []\n",
    "for image in focal_stack:\n",
    "    image_lum = cv2.cvtColor(image, cv2.COLOR_RGB2GRAY).astype(np.float)\n",
    "    kernel = cv2.getGaussianKernel(13, 0)\n",
    "    image_low_freq = cv2.filter2D(image_lum, -1, kernel)\n",
    "    image_high_freq = image_lum - image_low_freq\n",
    "    kernel = cv2.getGaussianKernel(15, 0)\n",
    "    weight = cv2.filter2D(image_high_freq**2, -1, kernel)\n",
    "    weights.append(weight)\n",
    "numerator, denominator = 0, 0\n",
    "for i in range(len(weights)):\n",
    "    weight = np.repeat(weights[i], 3).reshape(h, w, 3)\n",
    "    numerator += weight * focal_stack[i]\n",
    "    denominator += weight\n",
    "all_in_focus = (numerator / denominator).astype(np.uint8)\n",
    "plt.axis(\"off\")\n",
    "plt.title(\"All-in-focus imaging\")\n",
    "plt.imshow(all_in_focus)\n",
    "cv2.imwrite('./refocus.png', all_in_focus)"
   ]
  }
 ],
 "metadata": {
  "kernelspec": {
   "display_name": "Python 3",
   "language": "python",
   "name": "python3"
  },
  "language_info": {
   "codemirror_mode": {
    "name": "ipython",
    "version": 3
   },
   "file_extension": ".py",
   "mimetype": "text/x-python",
   "name": "python",
   "nbconvert_exporter": "python",
   "pygments_lexer": "ipython3",
   "version": "3.8.0"
  }
 },
 "nbformat": 4,
 "nbformat_minor": 4
}
